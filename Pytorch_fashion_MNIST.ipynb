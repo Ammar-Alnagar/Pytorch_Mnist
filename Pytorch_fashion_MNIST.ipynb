{
  "cells": [
    {
      "cell_type": "markdown",
      "metadata": {
        "id": "07c731a5-5d94-426d-a83a-26b3ba2a06b1"
      },
      "source": [
        "<h1>Convolutional Neural Network with Small Images</h1>\n"
      ]
    },
    {
      "cell_type": "markdown",
      "metadata": {
        "id": "bf5149c4-cfaf-4004-8d92-e202813a2253"
      },
      "source": [
        "\n",
        "<h3>Objective for this Notebook<h3>    \n",
        "<h5> 1. Learn how to use a Convolutional Neural Network to classify handwritten digits from the MNIST database</h5>\n",
        "<h5> 2. Learn hot to reshape the images to make them faster to process </h5>     \n",
        "\n"
      ]
    },
    {
      "cell_type": "markdown",
      "metadata": {
        "id": "a03ca2a0-dfb1-4db3-94a4-e4c281361419"
      },
      "source": [
        "<h2>Preparation</h2>\n"
      ]
    },
    {
      "cell_type": "code",
      "execution_count": 1,
      "metadata": {
        "vscode": {
          "languageId": "python"
        },
        "id": "cbff056d-c540-4e06-9bd6-f0ea62160904",
        "outputId": "8dd0d36e-dda1-4766-d445-b8ed4f9963cd",
        "colab": {
          "base_uri": "https://localhost:8080/"
        }
      },
      "outputs": [
        {
          "output_type": "stream",
          "name": "stdout",
          "text": [
            "\u001b[31mERROR: Could not find a version that satisfies the requirement torchvision==0.9.1 (from versions: 0.1.6, 0.1.7, 0.1.8, 0.1.9, 0.2.0, 0.2.1, 0.2.2, 0.2.2.post2, 0.2.2.post3, 0.12.0, 0.13.0, 0.13.1, 0.14.0, 0.14.1, 0.15.0, 0.15.1, 0.15.2, 0.16.0, 0.16.1, 0.16.2, 0.17.0, 0.17.1)\u001b[0m\u001b[31m\n",
            "\u001b[0m\u001b[31mERROR: No matching distribution found for torchvision==0.9.1\u001b[0m\u001b[31m\n",
            "\u001b[0m"
          ]
        }
      ],
      "source": [
        "\n",
        "\n",
        "# Import the libraries we need to use in this lab\n",
        "\n",
        "# Using the following line code to install the torchvision library\n",
        "# !mamba install -y torchvision\n",
        "\n",
        "!pip install torchvision==0.9.1 torch==1.8.1\n",
        "import torch\n",
        "import torch.nn as nn\n",
        "import torchvision.transforms as transforms\n",
        "import torchvision.datasets as dsets\n",
        "import matplotlib.pylab as plt\n",
        "import numpy as np"
      ]
    },
    {
      "cell_type": "markdown",
      "metadata": {
        "id": "8b04a526-3214-4e6b-9ee2-baf238372449"
      },
      "source": [
        "Define the function <code>plot_channels</code> to plot out the kernel parameters of  each channel\n"
      ]
    },
    {
      "cell_type": "code",
      "execution_count": 2,
      "metadata": {
        "vscode": {
          "languageId": "python"
        },
        "id": "b73bf799-c4ec-470e-ae17-6fd470b305c5"
      },
      "outputs": [],
      "source": [
        "# Define the function for plotting the channels\n",
        "\n",
        "def plot_channels(W):\n",
        "    n_out = W.shape[0]\n",
        "    n_in = W.shape[1]\n",
        "    w_min = W.min().item()\n",
        "    w_max = W.max().item()\n",
        "    fig, axes = plt.subplots(n_out, n_in)\n",
        "    fig.subplots_adjust(hspace=0.1)\n",
        "    out_index = 0\n",
        "    in_index = 0\n",
        "\n",
        "    #plot outputs as rows inputs as columns\n",
        "    for ax in axes.flat:\n",
        "        if in_index > n_in-1:\n",
        "            out_index = out_index + 1\n",
        "            in_index = 0\n",
        "        ax.imshow(W[out_index, in_index, :, :], vmin=w_min, vmax=w_max, cmap='seismic')\n",
        "        ax.set_yticklabels([])\n",
        "        ax.set_xticklabels([])\n",
        "        in_index = in_index + 1\n",
        "\n",
        "    plt.show()"
      ]
    },
    {
      "cell_type": "markdown",
      "metadata": {
        "id": "23950c9f-4144-4b20-a7bc-dd7411f6d289"
      },
      "source": [
        "Define the function <code>plot_parameters</code> to plot out the kernel parameters of each channel with Multiple outputs .\n"
      ]
    },
    {
      "cell_type": "code",
      "execution_count": 3,
      "metadata": {
        "vscode": {
          "languageId": "python"
        },
        "id": "468ffc94-fd1c-435c-8c2a-882d580bf330"
      },
      "outputs": [],
      "source": [
        "# Define the function for plotting the parameters\n",
        "\n",
        "def plot_parameters(W, number_rows=1, name=\"\", i=0):\n",
        "    W = W.data[:, i, :, :]\n",
        "    n_filters = W.shape[0]\n",
        "    w_min = W.min().item()\n",
        "    w_max = W.max().item()\n",
        "    fig, axes = plt.subplots(number_rows, n_filters // number_rows)\n",
        "    fig.subplots_adjust(hspace=0.4)\n",
        "\n",
        "    for i, ax in enumerate(axes.flat):\n",
        "        if i < n_filters:\n",
        "            # Set the label for the sub-plot.\n",
        "            ax.set_xlabel(\"kernel:{0}\".format(i + 1))\n",
        "\n",
        "            # Plot the image.\n",
        "            ax.imshow(W[i, :], vmin=w_min, vmax=w_max, cmap='seismic')\n",
        "            ax.set_xticks([])\n",
        "            ax.set_yticks([])\n",
        "    plt.suptitle(name, fontsize=10)\n",
        "    plt.show()"
      ]
    },
    {
      "cell_type": "markdown",
      "metadata": {
        "id": "afe4ef8c-d318-408c-a7b5-50391c3bd2ad"
      },
      "source": [
        "Define the function <code>plot_activation</code> to plot out the activations of the Convolutional layers  \n"
      ]
    },
    {
      "cell_type": "code",
      "execution_count": 4,
      "metadata": {
        "vscode": {
          "languageId": "python"
        },
        "id": "f718c601-48a8-4fe8-a293-eb7c203a9da4"
      },
      "outputs": [],
      "source": [
        "# Define the function for plotting the activations\n",
        "\n",
        "def plot_activations(A, number_rows=1, name=\"\", i=0):\n",
        "    A = A[0, :, :, :].detach().numpy()\n",
        "    n_activations = A.shape[0]\n",
        "    A_min = A.min().item()\n",
        "    A_max = A.max().item()\n",
        "    fig, axes = plt.subplots(number_rows, n_activations // number_rows)\n",
        "    fig.subplots_adjust(hspace = 0.4)\n",
        "\n",
        "    for i, ax in enumerate(axes.flat):\n",
        "        if i < n_activations:\n",
        "            # Set the label for the sub-plot.\n",
        "            ax.set_xlabel(\"activation:{0}\".format(i + 1))\n",
        "\n",
        "            # Plot the image.\n",
        "            ax.imshow(A[i, :], vmin=A_min, vmax=A_max, cmap='seismic')\n",
        "            ax.set_xticks([])\n",
        "            ax.set_yticks([])\n",
        "    plt.show()"
      ]
    },
    {
      "cell_type": "markdown",
      "metadata": {
        "id": "15179816-5df4-4933-8848-14a053a3fc85"
      },
      "source": [
        "Define the function <code>show_data</code> to plot out data samples as images.\n"
      ]
    },
    {
      "cell_type": "code",
      "execution_count": 5,
      "metadata": {
        "vscode": {
          "languageId": "python"
        },
        "id": "90119e9a-e4d9-4121-8533-503953f0b61c"
      },
      "outputs": [],
      "source": [
        "def show_data(data_sample):\n",
        "    plt.imshow(data_sample[0].numpy().reshape(IMAGE_SIZE, IMAGE_SIZE), cmap='gray')\n",
        "    plt.title('y = '+ str(data_sample[1]))"
      ]
    },
    {
      "cell_type": "markdown",
      "metadata": {
        "id": "1346f03c-48fc-4e99-bd53-191157ec5698"
      },
      "source": [
        "<!--Empty Space for separating topics-->\n"
      ]
    },
    {
      "cell_type": "markdown",
      "metadata": {
        "id": "16f5769f-5ee8-495c-8aec-28e4d06ae479"
      },
      "source": [
        "<h2 id=\"Makeup_Data\">Get the Data</h2>\n"
      ]
    },
    {
      "cell_type": "markdown",
      "metadata": {
        "id": "7dddf4d5-18d7-4a38-a88b-b7fbe56dc184"
      },
      "source": [
        "we create a transform to resize the image and convert it to a tensor .\n"
      ]
    },
    {
      "cell_type": "code",
      "execution_count": 6,
      "metadata": {
        "vscode": {
          "languageId": "python"
        },
        "id": "437565c1-f5b0-44f4-bdad-fe7b5fe123dd"
      },
      "outputs": [],
      "source": [
        "\n",
        "\n",
        "IMAGE_SIZE = 16\n",
        "\n",
        "\n",
        "composed = transforms.Compose([transforms.Resize((IMAGE_SIZE, IMAGE_SIZE)), transforms.ToTensor()])"
      ]
    },
    {
      "cell_type": "markdown",
      "metadata": {
        "id": "40cf4a17-f78f-4a4c-9044-203c72de3542"
      },
      "source": [
        "Load the training dataset by setting the parameters <code>train </code> to <code>True</code>. We use the transform defined above.\n"
      ]
    },
    {
      "cell_type": "code",
      "execution_count": 7,
      "metadata": {
        "vscode": {
          "languageId": "python"
        },
        "id": "5757e293-c5af-4b13-9482-231a76c18c5b",
        "outputId": "2d07ca02-cad6-4641-fd6a-db070f71032c",
        "colab": {
          "base_uri": "https://localhost:8080/"
        }
      },
      "outputs": [
        {
          "output_type": "stream",
          "name": "stdout",
          "text": [
            "Downloading http://yann.lecun.com/exdb/mnist/train-images-idx3-ubyte.gz\n",
            "Downloading http://yann.lecun.com/exdb/mnist/train-images-idx3-ubyte.gz to ./data/MNIST/raw/train-images-idx3-ubyte.gz\n"
          ]
        },
        {
          "output_type": "stream",
          "name": "stderr",
          "text": [
            "100%|██████████| 9912422/9912422 [00:00<00:00, 477991621.57it/s]"
          ]
        },
        {
          "output_type": "stream",
          "name": "stdout",
          "text": [
            "Extracting ./data/MNIST/raw/train-images-idx3-ubyte.gz to ./data/MNIST/raw\n"
          ]
        },
        {
          "output_type": "stream",
          "name": "stderr",
          "text": [
            "\n"
          ]
        },
        {
          "output_type": "stream",
          "name": "stdout",
          "text": [
            "\n",
            "Downloading http://yann.lecun.com/exdb/mnist/train-labels-idx1-ubyte.gz\n",
            "Downloading http://yann.lecun.com/exdb/mnist/train-labels-idx1-ubyte.gz to ./data/MNIST/raw/train-labels-idx1-ubyte.gz\n"
          ]
        },
        {
          "output_type": "stream",
          "name": "stderr",
          "text": [
            "100%|██████████| 28881/28881 [00:00<00:00, 114278956.44it/s]\n"
          ]
        },
        {
          "output_type": "stream",
          "name": "stdout",
          "text": [
            "Extracting ./data/MNIST/raw/train-labels-idx1-ubyte.gz to ./data/MNIST/raw\n",
            "\n",
            "Downloading http://yann.lecun.com/exdb/mnist/t10k-images-idx3-ubyte.gz\n",
            "Downloading http://yann.lecun.com/exdb/mnist/t10k-images-idx3-ubyte.gz to ./data/MNIST/raw/t10k-images-idx3-ubyte.gz\n"
          ]
        },
        {
          "output_type": "stream",
          "name": "stderr",
          "text": [
            "100%|██████████| 1648877/1648877 [00:00<00:00, 190683266.61it/s]\n"
          ]
        },
        {
          "output_type": "stream",
          "name": "stdout",
          "text": [
            "Extracting ./data/MNIST/raw/t10k-images-idx3-ubyte.gz to ./data/MNIST/raw\n",
            "\n",
            "Downloading http://yann.lecun.com/exdb/mnist/t10k-labels-idx1-ubyte.gz\n",
            "Downloading http://yann.lecun.com/exdb/mnist/t10k-labels-idx1-ubyte.gz to ./data/MNIST/raw/t10k-labels-idx1-ubyte.gz\n"
          ]
        },
        {
          "output_type": "stream",
          "name": "stderr",
          "text": [
            "100%|██████████| 4542/4542 [00:00<00:00, 20462436.92it/s]"
          ]
        },
        {
          "output_type": "stream",
          "name": "stdout",
          "text": [
            "Extracting ./data/MNIST/raw/t10k-labels-idx1-ubyte.gz to ./data/MNIST/raw\n",
            "\n"
          ]
        },
        {
          "output_type": "stream",
          "name": "stderr",
          "text": [
            "\n"
          ]
        }
      ],
      "source": [
        "\n",
        "train_dataset = dsets.MNIST(root='./data', train=True, download=True, transform=composed)"
      ]
    },
    {
      "cell_type": "markdown",
      "metadata": {
        "id": "13d0f2fe-061d-4b1b-a972-9a602e21c917"
      },
      "source": [
        "Load the testing dataset by setting the parameters train  <code>False</code>.\n"
      ]
    },
    {
      "cell_type": "code",
      "execution_count": 8,
      "metadata": {
        "vscode": {
          "languageId": "python"
        },
        "id": "fbf8bcd8-b897-4041-8ace-6cd0b714377c"
      },
      "outputs": [],
      "source": [
        "# Make the validating\n",
        "\n",
        "validation_dataset = dsets.MNIST(root='./data', train=False, download=True, transform=composed)"
      ]
    },
    {
      "cell_type": "markdown",
      "metadata": {
        "id": "82cde4b0-619b-4131-92c9-ee5041a56f21"
      },
      "source": [
        "We can see the data type is long.\n"
      ]
    },
    {
      "cell_type": "code",
      "execution_count": 9,
      "metadata": {
        "vscode": {
          "languageId": "python"
        },
        "id": "488a9ebd-a21d-4f6b-b77e-1c6f7b889dc3",
        "outputId": "030ca87a-beae-4858-da42-e5f21f2c4f6b",
        "colab": {
          "base_uri": "https://localhost:8080/"
        }
      },
      "outputs": [
        {
          "output_type": "execute_result",
          "data": {
            "text/plain": [
              "int"
            ]
          },
          "metadata": {},
          "execution_count": 9
        }
      ],
      "source": [
        "# Show the data type for each element in dataset\n",
        "\n",
        "type(train_dataset[0][1])"
      ]
    },
    {
      "cell_type": "markdown",
      "metadata": {
        "id": "cdbefb5d-a516-4c0c-81e7-8cdc319c5019"
      },
      "source": [
        "Each element in the rectangular tensor corresponds to a number representing a pixel intensity as demonstrated by the following image.\n"
      ]
    },
    {
      "cell_type": "markdown",
      "metadata": {
        "id": "cf889041-d2ee-4aca-b9e8-bae6e3d7d4f2"
      },
      "source": [
        "<img src=\"https://s3-api.us-geo.objectstorage.softlayer.net/cf-courses-data/CognitiveClass/DL0110EN/notebook_images%20/chapter%206/6.2.1imagenet.png\" width=\"550\" alt=\"MNIST data image\">\n"
      ]
    },
    {
      "cell_type": "markdown",
      "metadata": {
        "id": "2788b96c-b63e-4d5a-93f2-f91df25b07ad"
      },
      "source": [
        "Print out the fourth label\n"
      ]
    },
    {
      "cell_type": "code",
      "execution_count": 10,
      "metadata": {
        "vscode": {
          "languageId": "python"
        },
        "id": "3c89f56c-69d4-47c5-be98-551432d34258",
        "outputId": "9d69a083-52ae-4b30-a9ea-1148c4031e0a",
        "colab": {
          "base_uri": "https://localhost:8080/"
        }
      },
      "outputs": [
        {
          "output_type": "execute_result",
          "data": {
            "text/plain": [
              "1"
            ]
          },
          "metadata": {},
          "execution_count": 10
        }
      ],
      "source": [
        "# The label for the fourth data element\n",
        "\n",
        "train_dataset[3][1]"
      ]
    },
    {
      "cell_type": "markdown",
      "metadata": {
        "id": "7d3f047b-28ca-4e27-8c30-8c7fbd92576c"
      },
      "source": [
        "Plot the fourth sample\n"
      ]
    },
    {
      "cell_type": "code",
      "execution_count": 11,
      "metadata": {
        "vscode": {
          "languageId": "python"
        },
        "id": "fabc2c8d-efc9-4d3e-8458-791afb785c35",
        "outputId": "5d289c1d-0435-45e2-bd7a-988b20e9f0dc",
        "colab": {
          "base_uri": "https://localhost:8080/",
          "height": 452
        }
      },
      "outputs": [
        {
          "output_type": "display_data",
          "data": {
            "text/plain": [
              "<Figure size 640x480 with 1 Axes>"
            ],
            "image/png": "[encoded data removed]"
          },
          "metadata": {}
        }
      ],
      "source": [
        "# The image for the fourth data element\n",
        "show_data(train_dataset[3])\n"
      ]
    },
    {
      "cell_type": "markdown",
      "metadata": {
        "id": "35a8bcf0-5d67-406d-9834-9d986e37c67f"
      },
      "source": [
        "The fourth sample is a \"1\".\n"
      ]
    },
    {
      "cell_type": "markdown",
      "metadata": {
        "id": "8bf86ea8-7a2b-462a-a619-d4958ffd9f16"
      },
      "source": [
        "<!--Empty Space for separating topics-->\n"
      ]
    },
    {
      "cell_type": "markdown",
      "metadata": {
        "id": "e2e4561f-c832-407e-8826-16ca17db7d20"
      },
      "source": [
        "<h2 id=\"CNN\">Build a Convolutional Neural Network Class</h2>\n"
      ]
    },
    {
      "cell_type": "markdown",
      "metadata": {
        "id": "33aac107-93d9-45c7-89fe-b3ea92d20009"
      },
      "source": [
        "Build a Convolutional Network class with two Convolutional layers and one fully connected layer. Pre-determine the size of the final output matrix. The parameters in the constructor are the number of output channels for the first and second layer.\n"
      ]
    },
    {
      "cell_type": "code",
      "execution_count": 12,
      "metadata": {
        "vscode": {
          "languageId": "python"
        },
        "id": "aaa17f30-6de5-4d49-929a-accc5a0eda6e"
      },
      "outputs": [],
      "source": [
        "class CNN(nn.Module):\n",
        "\n",
        "    # Contructor\n",
        "    def __init__(self, out_1=16, out_2=32):\n",
        "        super(CNN, self).__init__()\n",
        "        self.cnn1 = nn.Conv2d(in_channels=1, out_channels=out_1, kernel_size=5, padding=2)\n",
        "        self.maxpool1=nn.MaxPool2d(kernel_size=2)\n",
        "\n",
        "        self.cnn2 = nn.Conv2d(in_channels=out_1, out_channels=out_2, kernel_size=5, stride=1, padding=2)\n",
        "        self.maxpool2=nn.MaxPool2d(kernel_size=2)\n",
        "        self.fc1 = nn.Linear(out_2 * 4 * 4, 10)\n",
        "\n",
        "    # Prediction\n",
        "    def forward(self, x):\n",
        "        x = self.cnn1(x)\n",
        "        x = torch.relu(x)\n",
        "        x = self.maxpool1(x)\n",
        "        x = self.cnn2(x)\n",
        "        x = torch.relu(x)\n",
        "        x = self.maxpool2(x)\n",
        "        x = x.view(x.size(0), -1)\n",
        "        x = self.fc1(x)\n",
        "        return x\n",
        "\n",
        "    # Outputs in each steps\n",
        "    def activations(self, x):\n",
        "        #outputs activation this is not necessary\n",
        "        z1 = self.cnn1(x)\n",
        "        a1 = torch.relu(z1)\n",
        "        out = self.maxpool1(a1)\n",
        "\n",
        "        z2 = self.cnn2(out)\n",
        "        a2 = torch.relu(z2)\n",
        "        out1 = self.maxpool2(a2)\n",
        "        out = out.view(out.size(0),-1)\n",
        "        return z1, a1, z2, a2, out1,out"
      ]
    },
    {
      "cell_type": "markdown",
      "metadata": {
        "id": "19bfc499-ebb7-4ce1-b305-a76933b82c16"
      },
      "source": [
        "<h2 id=\"Train\">Define the Convolutional Neural Network Classifier, Criterion function, Optimizer and Train the Model</h2>\n"
      ]
    },
    {
      "cell_type": "markdown",
      "metadata": {
        "id": "0ef0856f-cf15-4abf-8b8d-cfdb2a59b1a6"
      },
      "source": [
        "There are 16 output channels for the first layer, and 32 output channels for the second layer\n"
      ]
    },
    {
      "cell_type": "code",
      "execution_count": 13,
      "metadata": {
        "vscode": {
          "languageId": "python"
        },
        "id": "6cdf9e0f-a20c-4aed-b86f-3c2655b054da"
      },
      "outputs": [],
      "source": [
        "# Create the model object using CNN class\n",
        "\n",
        "model = CNN(out_1=16, out_2=32)"
      ]
    },
    {
      "cell_type": "markdown",
      "metadata": {
        "id": "37810040-628f-4ffc-b049-b7bd7ebd3555"
      },
      "source": [
        "Plot the model parameters for the kernels before training the kernels. The kernels are initialized randomly.\n"
      ]
    },
    {
      "cell_type": "code",
      "execution_count": 14,
      "metadata": {
        "vscode": {
          "languageId": "python"
        },
        "id": "6c39912d-e2c9-4884-90e6-a93cba9ee0c3",
        "outputId": "b694c920-35e0-4874-ada3-552ea19e7420",
        "colab": {
          "base_uri": "https://localhost:8080/",
          "height": 922
        }
      },
      "outputs": [
        {
          "output_type": "display_data",
          "data": {
            "text/plain": [
              "<Figure size 640x480 with 16 Axes>"
            ],
            "image/png": "[encoded data removed]"
          },
          "metadata": {}
        },
        {
          "output_type": "display_data",
          "data": {
            "text/plain": [
              "<Figure size 640x480 with 32 Axes>"
            ],
            "image/png": "[encoded data removed]"
          },
          "metadata": {}
        }
      ],
      "source": [
        "# Plot the parameters\n",
        "\n",
        "plot_parameters(model.state_dict()['cnn1.weight'], number_rows=4, name=\"1st layer kernels before training \")\n",
        "plot_parameters(model.state_dict()['cnn2.weight'], number_rows=4, name='2nd layer kernels before training' )"
      ]
    },
    {
      "cell_type": "markdown",
      "metadata": {
        "id": "2dab126f-d9a5-49b2-ad9f-a19093be8248"
      },
      "source": [
        "Define the loss function, the optimizer and the dataset loader\n"
      ]
    },
    {
      "cell_type": "code",
      "execution_count": 15,
      "metadata": {
        "vscode": {
          "languageId": "python"
        },
        "id": "9ffd5d7b-0857-4519-b0fb-23d1aa67d3fc"
      },
      "outputs": [],
      "source": [
        "criterion = nn.CrossEntropyLoss()\n",
        "learning_rate = 0.1\n",
        "optimizer = torch.optim.SGD(model.parameters(), lr = learning_rate)\n",
        "train_loader = torch.utils.data.DataLoader(dataset=train_dataset, batch_size=100)\n",
        "validation_loader = torch.utils.data.DataLoader(dataset=validation_dataset, batch_size=5000)"
      ]
    },
    {
      "cell_type": "markdown",
      "metadata": {
        "id": "f1a7442d-5487-49aa-9712-6bef24eb4c71"
      },
      "source": [
        "Train the model and determine validation accuracy technically test accuracy **(This may take a long time)**\n"
      ]
    },
    {
      "cell_type": "code",
      "execution_count": null,
      "metadata": {
        "vscode": {
          "languageId": "python"
        },
        "id": "6078600d-97cc-4ad8-8a1d-d53d82f5b8bb"
      },
      "outputs": [],
      "source": [
        "# Train the model\n",
        "\n",
        "n_epochs=3\n",
        "cost_list=[]\n",
        "accuracy_list=[]\n",
        "N_test=len(validation_dataset)\n",
        "COST=0\n",
        "\n",
        "def train_model(n_epochs):\n",
        "    for epoch in range(n_epochs):\n",
        "        COST=0\n",
        "        for x, y in train_loader:\n",
        "            optimizer.zero_grad()\n",
        "            z = model(x)\n",
        "            loss = criterion(z, y)\n",
        "            loss.backward()\n",
        "            optimizer.step()\n",
        "            COST+=loss.data\n",
        "\n",
        "        cost_list.append(COST)\n",
        "        correct=0\n",
        "        #perform a prediction on the validation  data\n",
        "        for x_test, y_test in validation_loader:\n",
        "            z = model(x_test)\n",
        "            _, yhat = torch.max(z.data, 1)\n",
        "            correct += (yhat == y_test).sum().item()\n",
        "        accuracy = correct / N_test\n",
        "        accuracy_list.append(accuracy)\n",
        "\n",
        "train_model(n_epochs)"
      ]
    },
    {
      "cell_type": "markdown",
      "metadata": {
        "id": "13d7a796-671f-4476-b7cd-8e5152bb74ec"
      },
      "source": [
        "<!--Empty Space for separating topics-->\n"
      ]
    },
    {
      "cell_type": "markdown",
      "metadata": {
        "id": "3353f066-08a3-4a35-aa10-ecc78e1ff933"
      },
      "source": [
        "<h2 id=\"Result\">Analyze Results</h2>\n"
      ]
    },
    {
      "cell_type": "markdown",
      "metadata": {
        "id": "b00a4147-fd9e-4988-9b5a-c5a48199b156"
      },
      "source": [
        "Plot the loss and accuracy on the validation data:\n"
      ]
    },
    {
      "cell_type": "code",
      "execution_count": null,
      "metadata": {
        "vscode": {
          "languageId": "python"
        },
        "id": "be076ea4-b3e1-4434-a95b-9e94996b19bc"
      },
      "outputs": [],
      "source": [
        "# Plot the loss and accuracy\n",
        "\n",
        "fig, ax1 = plt.subplots()\n",
        "color = 'tab:red'\n",
        "ax1.plot(cost_list, color=color)\n",
        "ax1.set_xlabel('epoch', color=color)\n",
        "ax1.set_ylabel('Cost', color=color)\n",
        "ax1.tick_params(axis='y', color=color)\n",
        "\n",
        "ax2 = ax1.twinx()\n",
        "color = 'tab:blue'\n",
        "ax2.set_ylabel('accuracy', color=color)\n",
        "ax2.set_xlabel('epoch', color=color)\n",
        "ax2.plot( accuracy_list, color=color)\n",
        "ax2.tick_params(axis='y', color=color)\n",
        "fig.tight_layout()"
      ]
    },
    {
      "cell_type": "markdown",
      "metadata": {
        "id": "f7bcfbee-7486-4a7e-8359-0c13241a6760"
      },
      "source": [
        "View the results of the parameters for the Convolutional layers\n"
      ]
    },
    {
      "cell_type": "code",
      "execution_count": null,
      "metadata": {
        "vscode": {
          "languageId": "python"
        },
        "id": "04f2e641-b0ae-479b-b7f1-b0d37a749c83"
      },
      "outputs": [],
      "source": [
        "# Plot the channels\n",
        "\n",
        "plot_channels(model.state_dict()['cnn1.weight'])\n",
        "plot_channels(model.state_dict()['cnn2.weight'])"
      ]
    },
    {
      "cell_type": "markdown",
      "metadata": {
        "id": "a4c5cd81-c4c3-4195-9dd8-2107bd8fb406"
      },
      "source": [
        "Consider the following sample\n"
      ]
    },
    {
      "cell_type": "code",
      "execution_count": null,
      "metadata": {
        "vscode": {
          "languageId": "python"
        },
        "id": "70f19aeb-e90e-42bc-9604-3964b2540369"
      },
      "outputs": [],
      "source": [
        "# Show the second image\n",
        "\n",
        "show_data(train_dataset[1])"
      ]
    },
    {
      "cell_type": "markdown",
      "metadata": {
        "id": "844d308a-7664-4205-9ec7-1468de681286"
      },
      "source": [
        "Determine the activations\n"
      ]
    },
    {
      "cell_type": "code",
      "execution_count": null,
      "metadata": {
        "vscode": {
          "languageId": "python"
        },
        "id": "363715a2-1219-4564-b846-d6ca67d03cd7"
      },
      "outputs": [],
      "source": [
        "# Use the CNN activations class to see the steps\n",
        "\n",
        "out = model.activations(train_dataset[1][0].view(1, 1, IMAGE_SIZE, IMAGE_SIZE))"
      ]
    },
    {
      "cell_type": "markdown",
      "metadata": {
        "id": "a19c0112-ef9b-4244-97a6-4f74abe8b978"
      },
      "source": [
        "Plot out the first set of activations\n"
      ]
    },
    {
      "cell_type": "code",
      "execution_count": null,
      "metadata": {
        "vscode": {
          "languageId": "python"
        },
        "id": "9ab69f1a-d44f-4694-a98f-cf1929ad961e"
      },
      "outputs": [],
      "source": [
        "# Plot the outputs after the first CNN\n",
        "\n",
        "plot_activations(out[0], number_rows=4, name=\"Output after the 1st CNN\")"
      ]
    },
    {
      "cell_type": "markdown",
      "metadata": {
        "id": "e074dcd2-195e-44bb-8c41-618eab8fbe26"
      },
      "source": [
        "The image below is the result after applying the relu activation function\n"
      ]
    },
    {
      "cell_type": "code",
      "execution_count": null,
      "metadata": {
        "vscode": {
          "languageId": "python"
        },
        "id": "38a66e67-e942-4f50-a2b9-425c3110f2e7"
      },
      "outputs": [],
      "source": [
        "# Plot the outputs after the first Relu\n",
        "\n",
        "plot_activations(out[1], number_rows=4, name=\"Output after the 1st Relu\")"
      ]
    },
    {
      "cell_type": "markdown",
      "metadata": {
        "id": "8b76ce57-5f12-4c92-ace6-20aeedcc05ef"
      },
      "source": [
        "The image below is the result of the activation map after the second output layer.\n"
      ]
    },
    {
      "cell_type": "code",
      "execution_count": null,
      "metadata": {
        "vscode": {
          "languageId": "python"
        },
        "id": "f6ea20cb-6c7f-4020-845f-98e436593aa5"
      },
      "outputs": [],
      "source": [
        "# Plot the outputs after the second CNN\n",
        "\n",
        "plot_activations(out[2], number_rows=32 // 4, name=\"Output after the 2nd CNN\")"
      ]
    },
    {
      "cell_type": "markdown",
      "metadata": {
        "id": "ddf4f10a-29b4-490d-9cd8-5f5750868c12"
      },
      "source": [
        "The image below is the result of the activation map after applying the second relu  \n"
      ]
    },
    {
      "cell_type": "code",
      "execution_count": null,
      "metadata": {
        "vscode": {
          "languageId": "python"
        },
        "id": "2b3af31d-9b95-40c7-a4ae-f5b14ab08b50"
      },
      "outputs": [],
      "source": [
        "# Plot the outputs after the second Relu\n",
        "\n",
        "plot_activations(out[3], number_rows=4, name=\"Output after the 2nd Relu\")"
      ]
    },
    {
      "cell_type": "markdown",
      "metadata": {
        "id": "91650def-f8d8-46bf-9676-9ef1a8aa41b0"
      },
      "source": [
        "We can  see the result for the third sample\n"
      ]
    },
    {
      "cell_type": "code",
      "execution_count": null,
      "metadata": {
        "vscode": {
          "languageId": "python"
        },
        "id": "76b7b75a-1fd1-4d3c-8734-b791271ebbee"
      },
      "outputs": [],
      "source": [
        "# Show the third image\n",
        "\n",
        "show_data(train_dataset[2])"
      ]
    },
    {
      "cell_type": "code",
      "execution_count": null,
      "metadata": {
        "vscode": {
          "languageId": "python"
        },
        "id": "9787e924-0ea1-4a3c-aec8-b3113c496190"
      },
      "outputs": [],
      "source": [
        "# Use the CNN activations class to see the steps\n",
        "\n",
        "out = model.activations(train_dataset[2][0].view(1, 1, IMAGE_SIZE, IMAGE_SIZE))"
      ]
    },
    {
      "cell_type": "code",
      "execution_count": null,
      "metadata": {
        "vscode": {
          "languageId": "python"
        },
        "id": "78129184-b69f-438d-b840-f9d43663ff1e"
      },
      "outputs": [],
      "source": [
        "# Plot the outputs after the first CNN\n",
        "\n",
        "plot_activations(out[0], number_rows=4, name=\"Output after the 1st CNN\")"
      ]
    },
    {
      "cell_type": "code",
      "execution_count": null,
      "metadata": {
        "vscode": {
          "languageId": "python"
        },
        "id": "cdbb2690-396e-4fca-a158-fd9e3992fe25"
      },
      "outputs": [],
      "source": [
        "# Plot the outputs after the first Relu\n",
        "\n",
        "plot_activations(out[1], number_rows=4, name=\"Output after the 1st Relu\")"
      ]
    },
    {
      "cell_type": "code",
      "execution_count": null,
      "metadata": {
        "vscode": {
          "languageId": "python"
        },
        "id": "627ae7c7-7b9f-41dd-acaa-b542dd8ea385"
      },
      "outputs": [],
      "source": [
        "# Plot the outputs after the second CNN\n",
        "\n",
        "plot_activations(out[2], number_rows=32 // 4, name=\"Output after the 2nd CNN\")"
      ]
    },
    {
      "cell_type": "code",
      "execution_count": null,
      "metadata": {
        "vscode": {
          "languageId": "python"
        },
        "id": "332593d9-24a9-4fa6-8970-10bbeb9f1e97"
      },
      "outputs": [],
      "source": [
        "# Plot the outputs after the second Relu\n",
        "\n",
        "plot_activations(out[3], number_rows=4, name=\"Output after the 2nd Relu\")"
      ]
    },
    {
      "cell_type": "markdown",
      "metadata": {
        "id": "dd5656d1-e8cb-4eee-b9e3-3ef2424133f2"
      },
      "source": [
        "Plot the first five mis-classified samples:\n"
      ]
    },
    {
      "cell_type": "code",
      "execution_count": null,
      "metadata": {
        "vscode": {
          "languageId": "python"
        },
        "id": "b09c5716-6544-44dc-987a-f2139b286033"
      },
      "outputs": [],
      "source": [
        "# Plot the mis-classified samples\n",
        "\n",
        "count = 0\n",
        "for x, y in torch.utils.data.DataLoader(dataset=validation_dataset, batch_size=1):\n",
        "    z = model(x)\n",
        "    _, yhat = torch.max(z, 1)\n",
        "    if yhat != y:\n",
        "        show_data((x, y))\n",
        "        plt.show()\n",
        "        print(\"yhat: \",yhat)\n",
        "        count += 1\n",
        "    if count >= 5:\n",
        "        break"
      ]
    },
    {
      "cell_type": "markdown",
      "metadata": {
        "id": "099c0eda-92f9-446c-b9e9-ebf48f88ba8f"
      },
      "source": [
        "<!--Empty Space for separating topics-->\n"
      ]
    }
  ],
  "metadata": {
    "kernelspec": {
      "display_name": "Python",
      "language": "python",
      "name": "conda-env-python-py"
    },
    "language_info": {
      "name": ""
    },
    "colab": {
      "provenance": [],
      "gpuType": "T4"
    },
    "accelerator": "GPU"
  },
  "nbformat": 4,
  "nbformat_minor": 0
}